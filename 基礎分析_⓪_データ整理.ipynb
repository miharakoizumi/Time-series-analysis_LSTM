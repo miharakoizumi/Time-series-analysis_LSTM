{
  "nbformat": 4,
  "nbformat_minor": 0,
  "metadata": {
    "colab": {
      "provenance": []
    },
    "kernelspec": {
      "name": "python3",
      "display_name": "Python 3"
    },
    "language_info": {
      "name": "python"
    }
  },
  "cells": [
    {
      "cell_type": "markdown",
      "source": [
        "**以下は、2つのCSVファイルを結合し、それをmerged_data.csvとして保存し、ダウンロードリンクを生成するコードです。**<br>Google Colabで実行することを想定しています。<br>\n",
        "\n",
        "手順:<br>\n",
        "CSVファイルの読み込み<br>\n",
        "データの結合<br>\n",
        "結合したデータの保存<br>\n",
        "ダウンロードリンクの生成<br>"
      ],
      "metadata": {
        "id": "uMKmzA7e5W2O"
      }
    },
    {
      "cell_type": "code",
      "source": [
        "import pandas as pd\n",
        "from google.colab import files\n",
        "\n",
        "# CSVファイルの読み込み（エンコーディングを指定）\n",
        "file1 = pd.read_csv('/content/sales_history1.csv', encoding='ISO-8859-1')  # または 'cp932'\n",
        "file2 = pd.read_csv('/content/sales_history2.csv', encoding='ISO-8859-1')  # または 'cp932'\n",
        "\n",
        "# データの結合 (縦に結合)\n",
        "merged_data = pd.concat([file1, file2], ignore_index=True)\n",
        "\n",
        "# 結合したデータをCSVファイルとして保存\n",
        "merged_data.to_csv('merged_data.csv', index=False)\n",
        "\n",
        "# ダウンロードリンクの生成\n",
        "files.download('merged_data.csv')\n"
      ],
      "metadata": {
        "colab": {
          "base_uri": "https://localhost:8080/",
          "height": 17
        },
        "id": "EYTus1S6639a",
        "outputId": "530a0654-b4a9-45c5-9fda-df789659aaa8"
      },
      "execution_count": 2,
      "outputs": [
        {
          "output_type": "display_data",
          "data": {
            "text/plain": [
              "<IPython.core.display.Javascript object>"
            ],
            "application/javascript": [
              "\n",
              "    async function download(id, filename, size) {\n",
              "      if (!google.colab.kernel.accessAllowed) {\n",
              "        return;\n",
              "      }\n",
              "      const div = document.createElement('div');\n",
              "      const label = document.createElement('label');\n",
              "      label.textContent = `Downloading \"${filename}\": `;\n",
              "      div.appendChild(label);\n",
              "      const progress = document.createElement('progress');\n",
              "      progress.max = size;\n",
              "      div.appendChild(progress);\n",
              "      document.body.appendChild(div);\n",
              "\n",
              "      const buffers = [];\n",
              "      let downloaded = 0;\n",
              "\n",
              "      const channel = await google.colab.kernel.comms.open(id);\n",
              "      // Send a message to notify the kernel that we're ready.\n",
              "      channel.send({})\n",
              "\n",
              "      for await (const message of channel.messages) {\n",
              "        // Send a message to notify the kernel that we're ready.\n",
              "        channel.send({})\n",
              "        if (message.buffers) {\n",
              "          for (const buffer of message.buffers) {\n",
              "            buffers.push(buffer);\n",
              "            downloaded += buffer.byteLength;\n",
              "            progress.value = downloaded;\n",
              "          }\n",
              "        }\n",
              "      }\n",
              "      const blob = new Blob(buffers, {type: 'application/binary'});\n",
              "      const a = document.createElement('a');\n",
              "      a.href = window.URL.createObjectURL(blob);\n",
              "      a.download = filename;\n",
              "      div.appendChild(a);\n",
              "      a.click();\n",
              "      div.remove();\n",
              "    }\n",
              "  "
            ]
          },
          "metadata": {}
        },
        {
          "output_type": "display_data",
          "data": {
            "text/plain": [
              "<IPython.core.display.Javascript object>"
            ],
            "application/javascript": [
              "download(\"download_a5460583-aa31-4673-96f9-90947724b537\", \"merged_data.csv\", 31053889)"
            ]
          },
          "metadata": {}
        }
      ]
    },
    {
      "cell_type": "markdown",
      "source": [
        "コードの説明:<br>\n",
        "CSVファイルの読み込み: sales_history1.csvとsales_history2.csvをそれぞれ読み込みます。<br>\n",
        "**データの結合**: pd.concatを使用して、2つのデータフレームを縦に結合します。<br>ignore_index=Trueを設定することで、インデックスをリセットします。<br>\n",
        "**結合したデータの保存**: 結合したデータフレームをmerged_data.csvとして保存します。<br>\n",
        "**ダウンロードリンクの生成**: files.downloadを使用して、保存したCSVファイルをダウンロードできるようにします。<br>\n",
        "このコードをGoogle Colabで実行することで、2つのCSVファイルを結合し、merged_data.csvとしてダウンロードすることができます。<br>"
      ],
      "metadata": {
        "id": "H8SNr5V_56Cu"
      }
    },
    {
      "cell_type": "code",
      "source": [],
      "metadata": {
        "id": "n0eRQg_c6Mhx"
      },
      "execution_count": null,
      "outputs": []
    }
  ]
}